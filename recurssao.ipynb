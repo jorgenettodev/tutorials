{
  "nbformat": 4,
  "nbformat_minor": 0,
  "metadata": {
    "colab": {
      "provenance": [],
      "authorship_tag": "ABX9TyMH+m80opmK5xhNrF0wl5HX",
      "include_colab_link": true
    },
    "kernelspec": {
      "name": "python3",
      "display_name": "Python 3"
    },
    "language_info": {
      "name": "python"
    }
  },
  "cells": [
    {
      "cell_type": "markdown",
      "metadata": {
        "id": "view-in-github",
        "colab_type": "text"
      },
      "source": [
        "<a href=\"https://colab.research.google.com/github/jorgenettodev/tutorials/blob/main/recurssao.ipynb\" target=\"_parent\"><img src=\"https://colab.research.google.com/assets/colab-badge.svg\" alt=\"Open In Colab\"/></a>"
      ]
    },
    {
      "cell_type": "code",
      "execution_count": null,
      "metadata": {
        "colab": {
          "base_uri": "https://localhost:8080/"
        },
        "id": "7T2xFhdXHKHU",
        "outputId": "e43cbbe3-bdc3-4bf0-9697-9c9352edb52f"
      },
      "outputs": [
        {
          "output_type": "stream",
          "name": "stdout",
          "text": [
            "20\n"
          ]
        }
      ],
      "source": [
        "# faça uma função recursiva fatorial\n",
        "\n",
        "# input: 5\n",
        "# output: 120\n",
        "# processamento: multiplique 5 pelo fatorial do numero 5 - 1, depois este número multiplicado por este número menos 1.\n",
        "\n",
        "def fatorial(n):\n",
        "  # definir o caso base (que encerra a recursão)\n",
        "\n",
        "  if n == 0 or n == 1:\n",
        "    return 1\n",
        "  \n",
        "  else:\n",
        "    return n * (n - 1)\n",
        "\n",
        "print(fatorial(5))"
      ]
    },
    {
      "cell_type": "code",
      "source": [],
      "metadata": {
        "id": "4xUyVx8kIP_h"
      },
      "execution_count": null,
      "outputs": []
    }
  ]
}